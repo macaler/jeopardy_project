{
 "cells": [
  {
   "cell_type": "markdown",
   "metadata": {},
   "source": [
    "This project, which mines 28.5 years (!) worth of data from the television game show \"Jeopardy!\", is a Codecademy Pro Challenge Project. Codecademy provided a couple of lines of introductory code in a .py file, but I am choosing to complete the rest of the project as a Jupyter notebook. This will allow for easier, clearer commenting, and will hopefully make the results easier to see and interpret as well.\n",
    "\n",
    "First let's start with the Codecademy provided code:"
   ]
  },
  {
   "cell_type": "code",
   "execution_count": 1,
   "metadata": {},
   "outputs": [],
   "source": [
    "import pandas as pd\n",
    "pd.set_option('display.max_colwidth', None)"
   ]
  },
  {
   "cell_type": "markdown",
   "metadata": {},
   "source": [
    "The original Codecademy setting for the second line of code above was \"pd.set_option('display.max_colwidth', -1)\", but this triggered a FutureWarning about passing a negative integer to set_option(). I followed the recommendation in the warning to pass \"None\" in instead of -1. This appeased the compiler.\n",
    "\n",
    "Now, let's see what sort of data we are working with by importing the .csv file into a DataFrame and inspecting the DataFrame info():"
   ]
  },
  {
   "cell_type": "code",
   "execution_count": 2,
   "metadata": {},
   "outputs": [
    {
     "name": "stdout",
     "output_type": "stream",
     "text": [
      "<class 'pandas.core.frame.DataFrame'>\n",
      "RangeIndex: 216930 entries, 0 to 216929\n",
      "Data columns (total 7 columns):\n",
      " #   Column       Non-Null Count   Dtype \n",
      "---  ------       --------------   ----- \n",
      " 0   Show Number  216930 non-null  int64 \n",
      " 1    Air Date    216930 non-null  object\n",
      " 2    Round       216930 non-null  object\n",
      " 3    Category    216930 non-null  object\n",
      " 4    Value       216930 non-null  object\n",
      " 5    Question    216930 non-null  object\n",
      " 6    Answer      216928 non-null  object\n",
      "dtypes: int64(1), object(6)\n",
      "memory usage: 11.6+ MB\n",
      "None\n"
     ]
    }
   ],
   "source": [
    "jeopardy = pd.read_csv('jeopardy.csv')\n",
    "\n",
    "print(jeopardy.info())"
   ]
  },
  {
   "cell_type": "markdown",
   "metadata": {},
   "source": [
    "It is admittedly a little hard to see in this Jupyter notebook, but the columns \"Air Date\", \"Round\", \"Category\", \"Value\", \"Question\", and \"Answer\" all start with a leading whitespace. This is mildly to moderately annoying, so let's begin by renaming those columns to omit the whitespace. Oh, and let's turn the spaces between words in the first two columns into an underscore:"
   ]
  },
  {
   "cell_type": "code",
   "execution_count": 3,
   "metadata": {},
   "outputs": [
    {
     "name": "stdout",
     "output_type": "stream",
     "text": [
      "<class 'pandas.core.frame.DataFrame'>\n",
      "RangeIndex: 216930 entries, 0 to 216929\n",
      "Data columns (total 7 columns):\n",
      " #   Column       Non-Null Count   Dtype \n",
      "---  ------       --------------   ----- \n",
      " 0   Show_Number  216930 non-null  int64 \n",
      " 1   Air_Date     216930 non-null  object\n",
      " 2   Round        216930 non-null  object\n",
      " 3   Category     216930 non-null  object\n",
      " 4   Value        216930 non-null  object\n",
      " 5   Question     216930 non-null  object\n",
      " 6   Answer       216928 non-null  object\n",
      "dtypes: int64(1), object(6)\n",
      "memory usage: 11.6+ MB\n",
      "None\n"
     ]
    }
   ],
   "source": [
    "jeopardy.rename(columns = {\"Show Number\":\"Show_Number\", \" Air Date\":\"Air_Date\", \" Round\":\"Round\", \\\n",
    "                           \" Category\":\"Category\", \" Value\":\"Value\", \" Question\":\"Question\", \" Answer\":\"Answer\"},\\\n",
    "                           inplace = True)\n",
    "print(jeopardy.info())"
   ]
  },
  {
   "cell_type": "markdown",
   "metadata": {},
   "source": [
    "<font color = green>\n",
    "    Codecademy: <br>\n",
    "</font>\n",
    "<font color = green>\n",
    "We may want to eventually compute aggregate statistics, like .mean() on the \" Value\" column. But right now, the values in that column are strings. Convert the \" Value\" column to floats. If you’d like to, you can create a new column with the float values. <br>\n",
    "</font>"
   ]
  },
  {
   "cell_type": "markdown",
   "metadata": {},
   "source": [
    "Making a new column for the float values of the \"Value\" column sounds like a great idea, so I will do just that. I will go ahead and \"write over\" the previous Jeopardy DataFrame, as I have hard-coded its name in my function calls. <br>\n",
    "\n",
    "All the numbers in the \"Value\" column have a leading $, so in order to convert that column to a float I will first need to get rid of that. I remember having to do this for a Codecademy exercise, so I will use what I did there for a model. But in doing so, we'll need to remember that there's no actual value associated with \"Final Jeopardy\" questions, which are of course included in this DataFrame. (I assume the same is true of \"Daily Double\" entries.) Lacking any better ideas, I'm going to give \"Final Jeopardy\" questions a value of 0 in the column \"Value_Num\", so that'll be something to keep in mind for the rest of the code. I will leave the actual \"Value\" of \"Final Jeopardy\" questions as \"None,\" so at least that will be preserved and is yet another good reason to make the float values of the \"Value\" column its own separate column. I got bit in the butt trying to use .fillna() in the Value_Num column, because blank values are listed as the string \"None\" and not NaNs. Another call to .replace() took care of that."
   ]
  },
  {
   "cell_type": "code",
   "execution_count": 4,
   "metadata": {},
   "outputs": [],
   "source": [
    "jeopardy[\"Value_Num\"] = jeopardy.Value.replace('[\\$,]', '', regex=True)\n",
    "jeopardy.Value_Num = jeopardy.Value_Num.replace('None', '0')\n",
    "jeopardy.Value_Num = pd.to_numeric(jeopardy.Value_Num)"
   ]
  },
  {
   "cell_type": "markdown",
   "metadata": {},
   "source": [
    "Let's see what the range of dates we're working with is:"
   ]
  },
  {
   "cell_type": "code",
   "execution_count": 5,
   "metadata": {},
   "outputs": [
    {
     "name": "stdout",
     "output_type": "stream",
     "text": [
      "1984-09-10 2012-01-27\n"
     ]
    }
   ],
   "source": [
    "print(min(jeopardy.Air_Date), max(jeopardy.Air_Date))"
   ]
  },
  {
   "cell_type": "markdown",
   "metadata": {},
   "source": [
    "Actually, it'd be nice to have the Air_Date column separated into Year, Month, and Day to do this. I think I recall having to do something similar in a Codecademy exercise, so I'll use what I did there as a model."
   ]
  },
  {
   "cell_type": "code",
   "execution_count": 6,
   "metadata": {},
   "outputs": [],
   "source": [
    "jeopardy['Year'] = jeopardy.Air_Date.str[0:4]\n",
    "jeopardy['Month'] = jeopardy.Air_Date.str[5:7]\n",
    "jeopardy['Day'] = jeopardy.Air_Date.str[8:11]\n",
    "\n",
    "jeopardy.Year = pd.to_numeric(jeopardy.Year)\n",
    "jeopardy.Month = pd.to_numeric(jeopardy.Month)\n",
    "jeopardy.Day = pd.to_numeric(jeopardy.Day)"
   ]
  },
  {
   "cell_type": "markdown",
   "metadata": {},
   "source": [
    "With those columns renamed and extra columns cleaned/added, let's move on to the Codecademy prompted questions. I'll make them a different colour than my own comments (and clearly label them as coming from Codecademy)."
   ]
  },
  {
   "cell_type": "markdown",
   "metadata": {},
   "source": [
    "<font color=green>\n",
    "    Codecademy: <br> </font>\n",
    "<font color=green>Write a function that filters the dataset for questions that contains all of the words in a list of words. For example, when the list [\"King\", \"England\"] was passed to our function, the function returned a DataFrame of 152 rows. Every row had the strings \"King\" and \"England\" somewhere in its \" Question\".<br> </font>\n",
    "<font color=green>Note that in this example, we found 152 rows by filtering the entire dataset. You can download the entire dataset at the start or end of this project. The dataset used on Codecademy is only a fraction of the dataset so you won’t find as many rows.<br> </font>\n",
    "<font color = green> Test your function by printing out the column containing the question of each row of the dataset. </font>\n",
    "\n"
   ]
  },
  {
   "cell_type": "code",
   "execution_count": 7,
   "metadata": {},
   "outputs": [],
   "source": [
    "def questions_with_words(word_list):\n",
    "    \n",
    "    frame1 = jeopardy.copy(deep = True)\n",
    "    \n",
    "    makeitlower = lambda x: x.lower() \n",
    "\n",
    "    for word in word_list:\n",
    "        word = word.lower()\n",
    "        frame1['Also_Question'] = frame1.Question.apply(makeitlower)\n",
    "        frame1['temp_column'] = frame1.Also_Question.str.contains(word, regex = True)\n",
    "        frame1['Question'] = frame1.apply(lambda row: 'not_in_list' if row['temp_column'] == False \\\n",
    "                                               else row['Question'], axis = 1) \n",
    "        \n",
    "    also_good_questions_list = frame1[frame1.Question != 'not_in_list']\n",
    "                \n",
    "    return also_good_questions_list"
   ]
  },
  {
   "cell_type": "markdown",
   "metadata": {},
   "source": [
    "I'm including the Codecademy solution in the cell below; it will be clearly labeled as their code. In my solution, I made use of the Codecademy hint about using a lambda function. As it turns out, I needed the lambda function to make the strings in the \"Questions\" column lowercase (as .lower() couldn't be applied to an entire Series), and in my solution I was determined to use the Pandas function .str.contains().<br>\n",
    "Here's some code that I got working before I got the above code (which uses str.contains()) to work. In all honesty, it's pretty much what the Codecademy solution does, just using a while loop instead of all().<br>\n",
    "\n",
    "    def questions_with_words_too(word_list):\n",
    "        frame = jeopardy.copy(deep = True)\n",
    "     \n",
    "        isitthere = lambda x: word.lower() in x.lower()\n",
    "         \n",
    "        i = 0\n",
    "        while i < len(word_list):\n",
    "            word = word_list[i]\n",
    "            frame['temp_column'] = frame.Question.apply(isitthere)\n",
    "            frame['Question'] = frame.apply(lambda row: 'blank' if row['temp_column'] == False else row['Question'],\\\n",
    "                                        axis = 1) \n",
    "            i = i+1\n",
    "        \n",
    "        good_questions_list = frame[frame.Question != 'blank']\n",
    "\n",
    "        return good_questions_list\n",
    "\n",
    "Note that the Codecademy solution takes much less time to run than mine does (either of mine actually), because my solution makes use of a \"for\" loop (or \"while loop if you are looking at the code here in these comments) while Codecademy uses the built-in pandas function all(). That's a bit of coding inefficiency on my end that I hope will be minimized as I program more with Python and related packages. Basically, my code is the thing most similar in spirit to what I would've written if you'd asked me to solve this problem in IDL for an input structure or array, and was one of my favourite tactics when dealing with filtering problems in SDSS/SDSS-III BOSS CMASS data.\n",
    "\n",
    "At any rage, below is the Codecademy solution."
   ]
  },
  {
   "cell_type": "code",
   "execution_count": 8,
   "metadata": {},
   "outputs": [],
   "source": [
    "def codecademy_questions_with_words(word_list):\n",
    "    filter = lambda x: all(word.lower() in x.lower() for word in word_list)\n",
    "    return jeopardy.loc[jeopardy[\"Question\"].apply(filter)]"
   ]
  },
  {
   "cell_type": "markdown",
   "metadata": {},
   "source": [
    "Now let's call my function (and the Codecademy one) on some lists of words I believe would reasonably be found together in a Jeopardy question. First I'll call the two functions for \"King\" and \"England,\" to make sure that my solution yields the same answers as the Codecademy one, and then for some other lists of words just for fun. Also, I will print out the .info() for each DataFrame rather than the header, as the \"Questions\" Series gets kinda long."
   ]
  },
  {
   "cell_type": "code",
   "execution_count": 9,
   "metadata": {},
   "outputs": [
    {
     "name": "stdout",
     "output_type": "stream",
     "text": [
      "<class 'pandas.core.frame.DataFrame'>\n",
      "Int64Index: 152 entries, 4953 to 216789\n",
      "Data columns (total 13 columns):\n",
      " #   Column         Non-Null Count  Dtype \n",
      "---  ------         --------------  ----- \n",
      " 0   Show_Number    152 non-null    int64 \n",
      " 1   Air_Date       152 non-null    object\n",
      " 2   Round          152 non-null    object\n",
      " 3   Category       152 non-null    object\n",
      " 4   Value          152 non-null    object\n",
      " 5   Question       152 non-null    object\n",
      " 6   Answer         152 non-null    object\n",
      " 7   Value_Num      152 non-null    int64 \n",
      " 8   Year           152 non-null    int64 \n",
      " 9   Month          152 non-null    int64 \n",
      " 10  Day            152 non-null    int64 \n",
      " 11  Also_Question  152 non-null    object\n",
      " 12  temp_column    152 non-null    bool  \n",
      "dtypes: bool(1), int64(5), object(7)\n",
      "memory usage: 15.6+ KB\n",
      "None\n",
      "<class 'pandas.core.frame.DataFrame'>\n",
      "Int64Index: 152 entries, 4953 to 216789\n",
      "Data columns (total 11 columns):\n",
      " #   Column       Non-Null Count  Dtype \n",
      "---  ------       --------------  ----- \n",
      " 0   Show_Number  152 non-null    int64 \n",
      " 1   Air_Date     152 non-null    object\n",
      " 2   Round        152 non-null    object\n",
      " 3   Category     152 non-null    object\n",
      " 4   Value        152 non-null    object\n",
      " 5   Question     152 non-null    object\n",
      " 6   Answer       152 non-null    object\n",
      " 7   Value_Num    152 non-null    int64 \n",
      " 8   Year         152 non-null    int64 \n",
      " 9   Month        152 non-null    int64 \n",
      " 10  Day          152 non-null    int64 \n",
      "dtypes: int64(5), object(6)\n",
      "memory usage: 14.2+ KB\n",
      "None\n"
     ]
    }
   ],
   "source": [
    "questions_we_care_about = questions_with_words(['King','England'])\n",
    "codecademy_solution = codecademy_questions_with_words(['King','England'])\n",
    "\n",
    "print(questions_we_care_about.info())\n",
    "print(codecademy_solution.info())"
   ]
  },
  {
   "cell_type": "markdown",
   "metadata": {},
   "source": [
    "In light of the prompt below, I actually updated my function \"questions_with_words\" to have its call to .str.contains() default to regex = True rather than regex = False; being able to use regular expressions might help with the problem of returning quesions with one or more words having a substring of an input word, rather than the word itself. Let's see what the difference is if I use regex in my function call, and leave the Codecademy solution as-is:"
   ]
  },
  {
   "cell_type": "code",
   "execution_count": 10,
   "metadata": {},
   "outputs": [
    {
     "name": "stdout",
     "output_type": "stream",
     "text": [
      "<class 'pandas.core.frame.DataFrame'>\n",
      "Int64Index: 130 entries, 4953 to 216789\n",
      "Data columns (total 13 columns):\n",
      " #   Column         Non-Null Count  Dtype \n",
      "---  ------         --------------  ----- \n",
      " 0   Show_Number    130 non-null    int64 \n",
      " 1   Air_Date       130 non-null    object\n",
      " 2   Round          130 non-null    object\n",
      " 3   Category       130 non-null    object\n",
      " 4   Value          130 non-null    object\n",
      " 5   Question       130 non-null    object\n",
      " 6   Answer         130 non-null    object\n",
      " 7   Value_Num      130 non-null    int64 \n",
      " 8   Year           130 non-null    int64 \n",
      " 9   Month          130 non-null    int64 \n",
      " 10  Day            130 non-null    int64 \n",
      " 11  Also_Question  130 non-null    object\n",
      " 12  temp_column    130 non-null    bool  \n",
      "dtypes: bool(1), int64(5), object(7)\n",
      "memory usage: 13.3+ KB\n",
      "None\n",
      "<class 'pandas.core.frame.DataFrame'>\n",
      "Int64Index: 152 entries, 4953 to 216789\n",
      "Data columns (total 11 columns):\n",
      " #   Column       Non-Null Count  Dtype \n",
      "---  ------       --------------  ----- \n",
      " 0   Show_Number  152 non-null    int64 \n",
      " 1   Air_Date     152 non-null    object\n",
      " 2   Round        152 non-null    object\n",
      " 3   Category     152 non-null    object\n",
      " 4   Value        152 non-null    object\n",
      " 5   Question     152 non-null    object\n",
      " 6   Answer       152 non-null    object\n",
      " 7   Value_Num    152 non-null    int64 \n",
      " 8   Year         152 non-null    int64 \n",
      " 9   Month        152 non-null    int64 \n",
      " 10  Day          152 non-null    int64 \n",
      "dtypes: int64(5), object(6)\n",
      "memory usage: 14.2+ KB\n",
      "None\n"
     ]
    }
   ],
   "source": [
    "questions_we_care_about_too = questions_with_words(['\\sKing','England'])\n",
    "codecademy_solution_too = codecademy_questions_with_words(['King','England'])\n",
    "\n",
    "print(questions_we_care_about_too.info())\n",
    "print(codecademy_solution_too.info())"
   ]
  },
  {
   "cell_type": "markdown",
   "metadata": {},
   "source": [
    "Using regex with my function (which I updated to allow for regular expressions) yields fewer \"hits\" than the Codecademy function. I didn't investigate the whole DataFrame \"questions_we_care_about_too\", but at least the first 10 rows or so had questions which contained \"k/King\" and \"England,\" and if there was something like \"vikings\" in the question it was because the former two words were in the question as well.\n",
    "\n",
    "Let's move on to searching for things that don't involve King(s) of England:"
   ]
  },
  {
   "cell_type": "code",
   "execution_count": 11,
   "metadata": {},
   "outputs": [
    {
     "name": "stdout",
     "output_type": "stream",
     "text": [
      "<class 'pandas.core.frame.DataFrame'>\n",
      "Int64Index: 6 entries, 18081 to 191529\n",
      "Data columns (total 13 columns):\n",
      " #   Column         Non-Null Count  Dtype \n",
      "---  ------         --------------  ----- \n",
      " 0   Show_Number    6 non-null      int64 \n",
      " 1   Air_Date       6 non-null      object\n",
      " 2   Round          6 non-null      object\n",
      " 3   Category       6 non-null      object\n",
      " 4   Value          6 non-null      object\n",
      " 5   Question       6 non-null      object\n",
      " 6   Answer         6 non-null      object\n",
      " 7   Value_Num      6 non-null      int64 \n",
      " 8   Year           6 non-null      int64 \n",
      " 9   Month          6 non-null      int64 \n",
      " 10  Day            6 non-null      int64 \n",
      " 11  Also_Question  6 non-null      object\n",
      " 12  temp_column    6 non-null      bool  \n",
      "dtypes: bool(1), int64(5), object(7)\n",
      "memory usage: 630.0+ bytes\n",
      "None\n",
      "<class 'pandas.core.frame.DataFrame'>\n",
      "Int64Index: 6 entries, 18081 to 191529\n",
      "Data columns (total 11 columns):\n",
      " #   Column       Non-Null Count  Dtype \n",
      "---  ------       --------------  ----- \n",
      " 0   Show_Number  6 non-null      int64 \n",
      " 1   Air_Date     6 non-null      object\n",
      " 2   Round        6 non-null      object\n",
      " 3   Category     6 non-null      object\n",
      " 4   Value        6 non-null      object\n",
      " 5   Question     6 non-null      object\n",
      " 6   Answer       6 non-null      object\n",
      " 7   Value_Num    6 non-null      int64 \n",
      " 8   Year         6 non-null      int64 \n",
      " 9   Month        6 non-null      int64 \n",
      " 10  Day          6 non-null      int64 \n",
      "dtypes: int64(5), object(6)\n",
      "memory usage: 576.0+ bytes\n",
      "None\n"
     ]
    }
   ],
   "source": [
    "#questions_we_care_about_2 = questions_with_words(['art','France'])\n",
    "#codecademy_solution_2 = codecademy_questions_with_words(['art','France'])\n",
    "\n",
    "# Just for fun, let's see how many times my alma mater (Colgate University) shows up:\n",
    "#questions_we_care_about_2 = questions_with_words(['Colgate'])\n",
    "#codecademy_solution_2 = codecademy_questions_with_words(['Colgate'])\n",
    "# Though note that this will retrive questionss about Colgate-Palmolive as well, not just the University. \n",
    "\n",
    "# And let's see how many times my graduate alma mater (UPenn) shows up:\n",
    "questions_we_care_about_2 = questions_with_words(['Pennsylvania','University'])\n",
    "codecademy_solution_2 = codecademy_questions_with_words(['Pennsylvania','University'])\n",
    "# Though this suffers from an even worse problem in that it pulls questions dealing with any University in \n",
    "# Pennslvania, including Penn State, Washington & Jefferson, and Lincoln.\n",
    "\n",
    "print(questions_we_care_about_2.info())\n",
    "print(codecademy_solution_2.info())"
   ]
  },
  {
   "cell_type": "markdown",
   "metadata": {},
   "source": [
    "<font color=green>\n",
    "Codecademy: <br>\n",
    "</font>\n",
    "<font color=green>\n",
    "Test your original function with a few different sets of words to try to find some ways your function breaks. Edit your function so it is more robust. <br>\n",
    "</font>\n",
    "<font color=green>\n",
    "For example, think about capitalization. We probably want to find questions that contain the word \"King\" or \"king\".\n",
    "You may also want to check to make sure you don’t find rows that contain substrings of your given words. For example, our function found a question that didn’t contain the word \"king\", however it did contain the word \"viking\" — it found the \"king\" inside \"viking\". Note that this also comes with some drawbacks — you would no longer find questions that contained words like \"England's\".\n",
    "</font>"
   ]
  },
  {
   "cell_type": "markdown",
   "metadata": {},
   "source": [
    "Well, I already kinda took care of the capitalization thing with calls to .lower() for both the Question Series and the input list of strings. And in light of the above prompt, I went back to fix my original function for the \"retrieve a substring\" problem, and wrote about the results above. So here let's try and fix the problem I noted above with my \"Colgate\" search and let you search by question as well as category:"
   ]
  },
  {
   "cell_type": "code",
   "execution_count": 12,
   "metadata": {},
   "outputs": [],
   "source": [
    "def questions_with_words_better(word_list, category_list):\n",
    "    \n",
    "    frame2 = jeopardy.copy(deep = True)\n",
    "    \n",
    "    makeitlower = lambda x: x.lower() \n",
    "\n",
    "    for word in word_list:\n",
    "        word = word.lower()\n",
    "        frame2['Also_Question'] = frame2.Question.apply(makeitlower)\n",
    "        frame2['temp_column1'] = frame2.Also_Question.str.contains(word, regex = True)\n",
    "        frame2['Question'] = frame2.apply(lambda row: 'not_in_list1' if row['temp_column1'] == False \\\n",
    "                                          else row['Question'], axis = 1) \n",
    "    for phrase in category_list:\n",
    "        phrase = phrase.lower()\n",
    "        frame2['Also_Category'] = frame2.Category.apply(makeitlower)\n",
    "        frame2['temp_column2'] = frame2.Also_Category.str.contains(phrase, regex = True)\n",
    "        frame2['Category'] = frame2.apply(lambda row: 'not_in_list2' if row['temp_column2'] == False \\\n",
    "                                        else row['Category'], axis = 1) \n",
    "        \n",
    "    good_questions_list = frame2[(frame2.Question != 'not_in_list1') & (frame2.Category != 'not_in_list2') ]\n",
    "                \n",
    "    return good_questions_list"
   ]
  },
  {
   "cell_type": "markdown",
   "metadata": {},
   "source": [
    "Naturally, since I re-set the default call to str.contains() above to include regex = True, I've done that again here. Once again, my function takes awhile to run, as it uses two \"for\" loops, but it runs and seems to give reasonable results for the limited number of question keywords/category keywords I have tried.\n",
    "\n",
    "Well, now that we've got a \"better\"(?) question filtering function, let's try it on some lists of question keywords and category keywords that I think would be reasonably likely to be found together in a Jeopardy question:"
   ]
  },
  {
   "cell_type": "code",
   "execution_count": 13,
   "metadata": {},
   "outputs": [
    {
     "name": "stdout",
     "output_type": "stream",
     "text": [
      "<class 'pandas.core.frame.DataFrame'>\n",
      "Int64Index: 355 entries, 1443 to 216329\n",
      "Data columns (total 15 columns):\n",
      " #   Column         Non-Null Count  Dtype \n",
      "---  ------         --------------  ----- \n",
      " 0   Show_Number    355 non-null    int64 \n",
      " 1   Air_Date       355 non-null    object\n",
      " 2   Round          355 non-null    object\n",
      " 3   Category       355 non-null    object\n",
      " 4   Value          355 non-null    object\n",
      " 5   Question       355 non-null    object\n",
      " 6   Answer         355 non-null    object\n",
      " 7   Value_Num      355 non-null    int64 \n",
      " 8   Year           355 non-null    int64 \n",
      " 9   Month          355 non-null    int64 \n",
      " 10  Day            355 non-null    int64 \n",
      " 11  Also_Question  355 non-null    object\n",
      " 12  temp_column1   355 non-null    bool  \n",
      " 13  Also_Category  355 non-null    object\n",
      " 14  temp_column2   355 non-null    bool  \n",
      "dtypes: bool(2), int64(5), object(8)\n",
      "memory usage: 39.5+ KB\n",
      "None\n"
     ]
    }
   ],
   "source": [
    "# Kings of England are a history topic, right?\n",
    "#questions_we_care_about_3 = questions_with_words_better(['\\sKing','England'], ['history'])\n",
    "#print(questions_we_care_about_3.info())\n",
    "\n",
    "# Let's see if we can filter out Colgate-Palmolive from my Colgate University searches:\n",
    "#questions_we_care_about_3 = questions_with_words_better(['Colgate'], ['college'])\n",
    "#print(questions_we_care_about_3.Question)\n",
    "# Yep! That got rid of the Colgate-Palmolive problem! But I think I lost a question dealing with that time Bill Cosby\n",
    "# was the graduation speaker.\n",
    "\n",
    "# Let's see if Jeopardy has ever asked about Finnish music; I have read in various places that Finland has the\n",
    "# highest per capita number of heavy metal bands on Earth:\n",
    "#questions_we_care_about_3 = questions_with_words_better(['Finland\\s'], ['music'])\n",
    "#print(questions_we_care_about_3.Question)\n",
    "# Nope, doesn't look like it.\n",
    "\n",
    "# And finally, since I have fond memories of Philly Beer Week, let's see what Jeopardy has asked about\n",
    "# breweries in Pennsylvania:\n",
    "#questions_we_care_about_3 = questions_with_words_better(['Pennsylvania'], ['beer'])\n",
    "#print(questions_we_care_about_3.info())\n",
    "\n",
    "# Hmm, doesn't look like they've asked about breweries in Pennsylvania. Let's try just beer in general:\n",
    "questions_we_care_about_3 = questions_with_words_better(['beer'], ['\\W'])\n",
    "print(questions_we_care_about_3.info())\n",
    "# Well, at least beer in general has been asked about 355 times!"
   ]
  },
  {
   "cell_type": "markdown",
   "metadata": {},
   "source": [
    "<font color = green>\n",
    "Now that you can filter the dataset of question, use your new column that contains the float values of each question to find the “difficulty” of certain topics. For example, what is the average value of questions that contain the word \"King\"?\n",
    "Make sure to use the dataset that contains the float values as the dataset you use in your filtering function.\n",
    "</font>"
   ]
  },
  {
   "cell_type": "code",
   "execution_count": 14,
   "metadata": {
    "scrolled": true
   },
   "outputs": [
    {
     "name": "stdout",
     "output_type": "stream",
     "text": [
      "771.8833850722094\n"
     ]
    }
   ],
   "source": [
    "king_questions = questions_with_words_better(['King'], ['\\W'])\n",
    "average_king_value = king_questions.Value_Num.mean()\n",
    "print(average_king_value)"
   ]
  },
  {
   "cell_type": "markdown",
   "metadata": {},
   "source": [
    "Maybe Codecademy means the average value of questions that contain the words \"King\" and \"England\"?"
   ]
  },
  {
   "cell_type": "code",
   "execution_count": 15,
   "metadata": {},
   "outputs": [
    {
     "name": "stdout",
     "output_type": "stream",
     "text": [
      "886.8421052631579\n"
     ]
    }
   ],
   "source": [
    "average_kingengland_value = questions_we_care_about.Value_Num.mean()\n",
    "print(average_kingengland_value)"
   ]
  },
  {
   "cell_type": "markdown",
   "metadata": {},
   "source": [
    "<font color = green>\n",
    "Codecademy: <br>\n",
    "</font>\n",
    "<font color = green>\n",
    "Write a function that returns the count of the unique answers to all of the questions in a dataset. For example, after filtering the entire dataset to only questions containing the word \"King\", we could then find all of the unique answers to those questions. The answer “Henry VIII” appeared 3 times and was the most common answer.\n",
    "</font>"
   ]
  },
  {
   "cell_type": "markdown",
   "metadata": {},
   "source": [
    "I think what Codecademy is getting at with this prompt is that you should be able to get the number of unique answers to every question in whatever DataFrame you'd like, whether the full DataFrame or one filtered by either \"questions_with_words\" or \"questions_with_words_better.\" To that end, it seems easiest to me to just pass in to the function a DataFrame which results from a call to \"questions_with_words\" or \"questions_with_words_better,\" and use the function itself to just get the counts:"
   ]
  },
  {
   "cell_type": "code",
   "execution_count": 16,
   "metadata": {},
   "outputs": [],
   "source": [
    "def unique_answer_count(df):\n",
    "    all_counts = df.groupby(['Answer']).Question.nunique().reset_index()\n",
    "    all_counts.rename(columns = {\"Question\":\"Num. of Answers\"}, inplace = True)\n",
    "    all_counts.sort_values(by='Num. of Answers', ascending = False, inplace = True)\n",
    "    return all_counts"
   ]
  },
  {
   "cell_type": "markdown",
   "metadata": {},
   "source": [
    "At first, this seemed somewhat of a silly function to define, but if one wants to do this for numerous DataFrames, I suppose it makes sense to do rather than repeat the same line of code over and over again.\n",
    "\n",
    "At any rate, let's test this function on the DataFrame we get by using Codecademy's function for \"King,\" and see if we get what they got."
   ]
  },
  {
   "cell_type": "code",
   "execution_count": 17,
   "metadata": {
    "scrolled": true
   },
   "outputs": [
    {
     "name": "stdout",
     "output_type": "stream",
     "text": [
      "                Answer  Num. of Answers\n",
      "1543        Henry VIII               55\n",
      "2963           Solomon               35\n",
      "2723       Richard III               33\n",
      "2070         Louis XIV               31\n",
      "1027             David               30\n",
      "...                ...              ...\n",
      "1951     L. Frank Baum                1\n",
      "1950           L'chaim                1\n",
      "1949        Königsberg                1\n",
      "1948  Kung Pao Chicken                1\n",
      "5267           zombies                1\n",
      "\n",
      "[5268 rows x 2 columns]\n"
     ]
    }
   ],
   "source": [
    "codecademy_king_dataframe = codecademy_questions_with_words(['King'])\n",
    "all_codecademy_king_counts = unique_answer_count(codecademy_king_dataframe)\n",
    "print(all_codecademy_king_counts)"
   ]
  },
  {
   "cell_type": "markdown",
   "metadata": {},
   "source": [
    "Hmmm. I didn't get 3; I got 55. Maybe they meant filtering the entire data set to only questions containing the words \"King\" and \"England\":"
   ]
  },
  {
   "cell_type": "code",
   "execution_count": 18,
   "metadata": {},
   "outputs": [
    {
     "name": "stdout",
     "output_type": "stream",
     "text": [
      "                      Answer  Num. of Answers\n",
      "100    William the Conqueror                6\n",
      "83   Richard the Lionhearted                3\n",
      "28                    Edward                3\n",
      "52                Henry VIII                3\n",
      "93                    Wessex                3\n",
      "..                       ...              ...\n",
      "36                    George                1\n",
      "35                    France                1\n",
      "34                  Ethelred                1\n",
      "33                    Engels                1\n",
      "113       the Stone of Scone                1\n",
      "\n",
      "[114 rows x 2 columns]\n"
     ]
    }
   ],
   "source": [
    "all_codecademy_king_counts = unique_answer_count(codecademy_solution_too)\n",
    "print(all_codecademy_king_counts)"
   ]
  },
  {
   "cell_type": "markdown",
   "metadata": {},
   "source": [
    "Well it doesn't seem to be the most *common* answer, but yeah, Henry VIII was an answer 3 times.\n",
    "\n",
    "OK, so now to try it with my function on not only \"King\" and \"England\", but maybe some other word/word combinations too."
   ]
  },
  {
   "cell_type": "code",
   "execution_count": 19,
   "metadata": {},
   "outputs": [
    {
     "name": "stdout",
     "output_type": "stream",
     "text": [
      "                     Answer  Num. of Answers\n",
      "84    William the Conqueror                5\n",
      "46                  James I                3\n",
      "43               Henry VIII                3\n",
      "70  Richard the Lionhearted                3\n",
      "30                 George I                3\n",
      "..                      ...              ...\n",
      "32   George III & Louis XVI                1\n",
      "29   George Frideric Handel                1\n",
      "28          George (I - IV)                1\n",
      "27                   George                1\n",
      "92       the Stone of Scone                1\n",
      "\n",
      "[93 rows x 2 columns]\n"
     ]
    }
   ],
   "source": [
    "my_king_counts = unique_answer_count(questions_we_care_about_too)\n",
    "print(my_king_counts)"
   ]
  },
  {
   "cell_type": "markdown",
   "metadata": {},
   "source": [
    "Well, I get the same Henry VIII counts as Codecademy does, so I suppose that is good.\n",
    "\n",
    "Now let's try a fun one:"
   ]
  },
  {
   "cell_type": "code",
   "execution_count": 20,
   "metadata": {},
   "outputs": [
    {
     "name": "stdout",
     "output_type": "stream",
     "text": [
      "                     Answer  Num. of Answers\n",
      "12                    Chile                3\n",
      "22               Full House                2\n",
      "61  The Witches of Eastwick                2\n",
      "41                    Obama                2\n",
      "33               Lee Marvin                2\n",
      "..                      ...              ...\n",
      "32                Ladyhawke                1\n",
      "34               Love Field                1\n",
      "35       Married to the Mob                1\n",
      "1         \"Dangerous Minds\"                1\n",
      "71      the inaugural balls                1\n",
      "\n",
      "[72 rows x 2 columns]\n"
     ]
    }
   ],
   "source": [
    "my_name_questions = questions_with_words_better(['Michelle'], ['\\W'])\n",
    "my_name_counts = unique_answer_count(my_name_questions)\n",
    "print(my_name_counts)"
   ]
  },
  {
   "cell_type": "markdown",
   "metadata": {},
   "source": [
    "My first name doesn't come up very often in a Jeopardy question, but when it does the most common answer is \"Chile.\""
   ]
  },
  {
   "cell_type": "markdown",
   "metadata": {},
   "source": [
    "<font color = green>\n",
    "Codecademy: <br>\n",
    "</font>\n",
    "<font color = green>\n",
    "    Explore from here! This is an incredibly rich dataset, and there are so many interesting things to discover. There are a few columns that we haven’t even started looking at yet. Here are some ideas on ways to continue working with this data:<br>\n",
    "</font>\n",
    "<font color = green>\n",
    "    Investigate the ways in which questions change over time by filtering by the date. How many questions from the 90s use the word \"Computer\" compared to questions from the 2000s?<br>\n",
    "</font>\n",
    "<font color = green>\n",
    "\tIs there a connection between the round and the category? Are you more likely to find certain categories, like \"Literature\" in Single Jeopardy or Double Jeopardy?\n",
    "</font>"
   ]
  },
  {
   "cell_type": "markdown",
   "metadata": {},
   "source": [
    "I picked these two prompts because they seemed the most interesting to me. Let's tackle them first, then get to a couple of questions I thought up.<br>\n",
    "\n",
    "First up: How do the questions change over time? <br>\n",
    "\n",
    "I think it's best to actually modify my questions_with_words_better function to carry out these investigations, as one can filter by Category in addition to Question if one wants. (Or if one doesn't, just pass the regex '\\W' in as a list.) Since I made separate columns for year, month, and day, but you may not want to filter by all/any of these, I'll set year_list, month_list, and day_list to have default values of [1984,2012], [01,12], and [01,31] respectively. <br>\n",
    "At any rate, let's go ahead and carry out that modification:"
   ]
  },
  {
   "cell_type": "code",
   "execution_count": 21,
   "metadata": {},
   "outputs": [],
   "source": [
    "def questions_with_words_best(word_list, category_list, year_list = [1984,2012], \\\n",
    "                              month_list = [0,12], day_list = [0,31]):\n",
    "    \n",
    "    frame3 = jeopardy.copy(deep = True)\n",
    "    \n",
    "    makeitlower = lambda x: x.lower() \n",
    "\n",
    "    for word in word_list:\n",
    "        word = word.lower()\n",
    "        frame3['Also_Question'] = frame3.Question.apply(makeitlower)\n",
    "        frame3['temp_column1'] = frame3.Also_Question.str.contains(word, regex = True)\n",
    "        frame3['Question'] = frame3.apply(lambda row: 'not_in_list1' if row['temp_column1'] == False \\\n",
    "                                          else row['Question'], axis = 1) \n",
    "    for phrase in category_list:\n",
    "        phrase = phrase.lower()\n",
    "        frame3['Also_Category'] = frame3.Category.apply(makeitlower)\n",
    "        frame3['temp_column2'] = frame3.Also_Category.str.contains(phrase, regex = True)\n",
    "        frame3['Category'] = frame3.apply(lambda row: 'not_in_list2' if row['temp_column2'] == False \\\n",
    "                                        else row['Category'], axis = 1) \n",
    "        \n",
    "    questions_list_step1 = frame3[(frame3.Question != 'not_in_list1') & (frame3.Category != 'not_in_list2') ]\n",
    "    \n",
    "    questions_list_step2 = questions_list_step1[(questions_list_step1.Year >= year_list[0]) &\n",
    "                                                (questions_list_step1.Year <= year_list[1])]\n",
    "    \n",
    "    questions_list_step3 = questions_list_step2[(questions_list_step2.Month >= month_list[0]) &\n",
    "                                                (questions_list_step2.Month <= month_list[1])]\n",
    "        \n",
    "    good_questions_list = questions_list_step3[(questions_list_step3.Day >= day_list[0]) &\n",
    "                                                (questions_list_step3.Day <= day_list[1])]\n",
    "    \n",
    "    return good_questions_list\n",
    "\n",
    "# Note that there's a limitation on using this function to filter by date: if you want to filter by something more \n",
    "# specific than a range of years or months -- like say, you wanted January 2000 through January 2010 -- my \n",
    "# function as currently written isn't going to do that very well. If you want to do that, it might actually be easier\n",
    "# to select those specific dates from the main DataFrame and then pass that DataFrame to questions_with_words_better."
   ]
  },
  {
   "cell_type": "markdown",
   "metadata": {},
   "source": [
    "Alright. Let's test this out on some stuff we already know the answer to:"
   ]
  },
  {
   "cell_type": "code",
   "execution_count": 22,
   "metadata": {},
   "outputs": [
    {
     "name": "stdout",
     "output_type": "stream",
     "text": [
      "<class 'pandas.core.frame.DataFrame'>\n",
      "Int64Index: 152 entries, 4953 to 216789\n",
      "Data columns (total 15 columns):\n",
      " #   Column         Non-Null Count  Dtype \n",
      "---  ------         --------------  ----- \n",
      " 0   Show_Number    152 non-null    int64 \n",
      " 1   Air_Date       152 non-null    object\n",
      " 2   Round          152 non-null    object\n",
      " 3   Category       152 non-null    object\n",
      " 4   Value          152 non-null    object\n",
      " 5   Question       152 non-null    object\n",
      " 6   Answer         152 non-null    object\n",
      " 7   Value_Num      152 non-null    int64 \n",
      " 8   Year           152 non-null    int64 \n",
      " 9   Month          152 non-null    int64 \n",
      " 10  Day            152 non-null    int64 \n",
      " 11  Also_Question  152 non-null    object\n",
      " 12  temp_column1   152 non-null    bool  \n",
      " 13  Also_Category  152 non-null    object\n",
      " 14  temp_column2   152 non-null    bool  \n",
      "dtypes: bool(2), int64(5), object(8)\n",
      "memory usage: 16.9+ KB\n",
      "None\n"
     ]
    }
   ],
   "source": [
    "new_function_test = questions_with_words_best(['King','England'], ['\\W'])\n",
    "print(new_function_test.info())"
   ]
  },
  {
   "cell_type": "markdown",
   "metadata": {},
   "source": [
    "OK! That gets us back the same DataFrame we got before (i.e., questions_we_care_about). So now let's look at what Codecademy recommended: How many questions from the 90s use the word \"Computer\" compared to questions from the 2000s?<br>\n",
    "I'll just use len() to get the number of questions rather than print out the full DataFrame info()."
   ]
  },
  {
   "cell_type": "code",
   "execution_count": 23,
   "metadata": {},
   "outputs": [
    {
     "name": "stdout",
     "output_type": "stream",
     "text": [
      "98 268\n"
     ]
    }
   ],
   "source": [
    "computers_90s = questions_with_words_best(['computer'], ['\\W'], year_list = [1990,1999])\n",
    "computers_00s = questions_with_words_best(['computer'], ['\\W'], year_list = [2000,2009])\n",
    "\n",
    "print(len(computers_90s), len(computers_00s))"
   ]
  },
  {
   "cell_type": "markdown",
   "metadata": {},
   "source": [
    "Just as one might have suspected, questions about computers became more common as they became a more common fixture of everyday life. To that end, how about cell phones?"
   ]
  },
  {
   "cell_type": "code",
   "execution_count": 24,
   "metadata": {},
   "outputs": [
    {
     "name": "stdout",
     "output_type": "stream",
     "text": [
      "2 24\n"
     ]
    }
   ],
   "source": [
    "cellphone_90s = questions_with_words_best(['cell phone'], ['\\W'], year_list = [1990,1999])\n",
    "cellphone_00s = questions_with_words_best(['cell phone'], ['\\W'], year_list = [2000,2009])\n",
    "\n",
    "print(len(cellphone_90s), len(cellphone_00s))"
   ]
  },
  {
   "cell_type": "markdown",
   "metadata": {},
   "source": [
    "Yep, questions about cell phones becamse more common, too. One could track DE-popularity as well, like say how rare questions about the USSR became after 1995, or what category they were found in, etc. Or one could see if certain Questions or Categories were more likely to pop up in spring, or summer, or in the first half of the month, etc.\n",
    "\n",
    "Now let's investigate connections between the round and the category. First, let's define a function to see how many times Questions of a particular Category appeared in each Round. The DataFrame passed to the function category_round_count is assumed to have already been filtered by Category."
   ]
  },
  {
   "cell_type": "code",
   "execution_count": 25,
   "metadata": {},
   "outputs": [],
   "source": [
    "def category_round_count(df):\n",
    "    all_counts = df.groupby(['Round']).Question.count().reset_index()\n",
    "    all_counts.rename(columns = {\"Question\":\"Num. of Appearances\"}, inplace = True)\n",
    "    all_counts.sort_values(by='Num. of Appearances', ascending = False, inplace = True)\n",
    "    return all_counts"
   ]
  },
  {
   "cell_type": "markdown",
   "metadata": {},
   "source": [
    "Now let's test!"
   ]
  },
  {
   "cell_type": "code",
   "execution_count": 26,
   "metadata": {},
   "outputs": [
    {
     "name": "stdout",
     "output_type": "stream",
     "text": [
      "              Round  Num. of Appearances\n",
      "0  Double Jeopardy!                 1054\n",
      "2         Jeopardy!                  423\n",
      "1   Final Jeopardy!                   82\n"
     ]
    }
   ],
   "source": [
    "literacy = questions_with_words_best(['\\W'], ['Literature'])\n",
    "literacy_counts = category_round_count(literacy)\n",
    "print(literacy_counts)"
   ]
  },
  {
   "cell_type": "code",
   "execution_count": 27,
   "metadata": {},
   "outputs": [
    {
     "name": "stdout",
     "output_type": "stream",
     "text": [
      "              Round  Num. of Appearances\n",
      "2         Jeopardy!                 1139\n",
      "0  Double Jeopardy!                  845\n",
      "1   Final Jeopardy!                   60\n"
     ]
    }
   ],
   "source": [
    "sportsball = questions_with_words_best(['\\W'], ['Sports'])\n",
    "sportsball_counts = category_round_count(sportsball)\n",
    "print(sportsball_counts)"
   ]
  },
  {
   "cell_type": "markdown",
   "metadata": {},
   "source": [
    "Sports is a common Jeopardy! category, whereas Literature is a common Double Jeopardy! category."
   ]
  },
  {
   "cell_type": "markdown",
   "metadata": {},
   "source": [
    "Now what questions do *I* have independently of Codecademy prompts? <br>\n",
    "\n",
    "Well, let's do a basic one first: What's the average Value for a particular Category?"
   ]
  },
  {
   "cell_type": "code",
   "execution_count": 28,
   "metadata": {},
   "outputs": [
    {
     "name": "stdout",
     "output_type": "stream",
     "text": [
      "Average value of Questions in Literature-based categories: 707.8896728672225\n",
      "Average value of Questions in Sports-based categories: 665.6555772994129\n"
     ]
    }
   ],
   "source": [
    "print('Average value of Questions in Literature-based categories:', literacy.Value_Num.mean())\n",
    "print('Average value of Questions in Sports-based categories:', sportsball.Value_Num.mean())"
   ]
  },
  {
   "cell_type": "markdown",
   "metadata": {},
   "source": [
    "It makes sense that Literature-based questions should have a higher average value than Sports-based questions, because Sports questions are more likely to appear in Jeopardy! rounds, and each question is worth half in Jeopardy! what it would be in Double Jeopardy!. One could compile numbers for different Categories if one wanted.\n",
    "\n",
    "Speaking of Categories. Are certain Categories more likely to appear in a particular Month? (I'd expect a category containing \"holidays\" to be kinda popular in December, for example.) Let's find out. Assume a DataFrame which has already been filtered by category:"
   ]
  },
  {
   "cell_type": "code",
   "execution_count": 29,
   "metadata": {},
   "outputs": [],
   "source": [
    "def category_by_month(df):\n",
    "    catbymonth = df.groupby(['Month']).Question.nunique().reset_index()\n",
    "    catbymonth.rename(columns = {\"Question\":\"Num. of Appearances\"}, inplace = True)\n",
    "    catbymonth.sort_values(by='Num. of Appearances', ascending = False, inplace = True)\n",
    "    return catbymonth"
   ]
  },
  {
   "cell_type": "code",
   "execution_count": 30,
   "metadata": {},
   "outputs": [
    {
     "name": "stdout",
     "output_type": "stream",
     "text": [
      "    Month  Num. of Appearances\n",
      "9      11                   61\n",
      "4       5                   53\n",
      "1       2                   49\n",
      "0       1                   47\n",
      "10     12                   47\n",
      "3       4                   45\n",
      "8      10                   39\n",
      "6       7                   25\n",
      "5       6                   22\n",
      "2       3                   15\n",
      "7       9                   14\n"
     ]
    }
   ],
   "source": [
    "holiday_questions = questions_with_words_best(['\\W'], ['holiday'])\n",
    "holiday_by_month = category_by_month(holiday_questions)\n",
    "print(holiday_by_month)"
   ]
  },
  {
   "cell_type": "markdown",
   "metadata": {},
   "source": [
    "Huh. \"Holiday\" is most common in November! Given that Halloween just ended, Thanksgiving is in that month, and the Christmas shopping season is on the horizon, I guess that makes sense in retrospect. And, no \"Holiday\" questions in August? Weird! But upon further investigation, there doesn't seem to be any data at all in the data base from August of any year! I wonder why that is.\n",
    "\n",
    "Well, anyway, let's look at some other categories too:"
   ]
  },
  {
   "cell_type": "code",
   "execution_count": 31,
   "metadata": {},
   "outputs": [
    {
     "name": "stdout",
     "output_type": "stream",
     "text": [
      "    Month  Num. of Appearances\n",
      "9      11                  229\n",
      "2       3                  165\n",
      "4       5                  159\n",
      "10     12                  151\n",
      "1       2                  142\n",
      "3       4                  138\n",
      "0       1                  132\n",
      "5       6                  120\n",
      "8      10                  118\n",
      "7       9                  111\n",
      "6       7                   94\n",
      "    Month  Num. of Appearances\n",
      "9      11                  239\n",
      "8      10                  233\n",
      "2       3                  221\n",
      "10     12                  201\n",
      "4       5                  193\n",
      "5       6                  182\n",
      "6       7                  179\n",
      "0       1                  178\n",
      "3       4                  161\n",
      "1       2                  145\n",
      "7       9                  112\n"
     ]
    }
   ],
   "source": [
    "literacy_by_month = category_by_month(literacy)\n",
    "print(literacy_by_month)\n",
    "\n",
    "sportsball_by_month = category_by_month(sportsball)\n",
    "print(sportsball_by_month)"
   ]
  },
  {
   "cell_type": "markdown",
   "metadata": {},
   "source": [
    "Broadly speaking, you're more likely to encounter a Sports-like question in winter than in summer. Also, Literature-like questions are very popular in November and not at all common in July.\n",
    "\n",
    "Hmmm. Let's see what the most common Final Jeopardy! Categories are:"
   ]
  },
  {
   "cell_type": "code",
   "execution_count": 32,
   "metadata": {},
   "outputs": [
    {
     "name": "stdout",
     "output_type": "stream",
     "text": [
      "             Category  Num. of Appearances\n",
      "1838  U.S. PRESIDENTS                   50\n",
      "1898     WORD ORIGINS                   34\n",
      "1560   STATE CAPITALS                   31\n",
      "332           AUTHORS                   27\n",
      "1927    WORLD LEADERS                   26\n",
      "...               ...                  ...\n",
      "742    FATHERS & SONS                    1\n",
      "739   FAMOUS WEDDINGS                    1\n",
      "738    FAMOUS VOYAGES                    1\n",
      "737      FAMOUS TEXTS                    1\n",
      "1951          ZOOLOGY                    1\n",
      "\n",
      "[1952 rows x 2 columns]\n"
     ]
    }
   ],
   "source": [
    "final_jeopardy = jeopardy[jeopardy.Round == 'Final Jeopardy!']\n",
    "\n",
    "final_jeopardy_category_counts = final_jeopardy.groupby(['Category']).Question.nunique().reset_index()\n",
    "final_jeopardy_category_counts.rename(columns = {\"Question\":\"Num. of Appearances\"}, inplace = True)\n",
    "final_jeopardy_category_counts.sort_values(by='Num. of Appearances', ascending = False, inplace = True)\n",
    "\n",
    "print(final_jeopardy_category_counts)"
   ]
  },
  {
   "cell_type": "markdown",
   "metadata": {},
   "source": [
    "Looks like U.S. Presidents is a somewhat common Final Jeopardy! Category, as are Word Origins and State Capitals."
   ]
  },
  {
   "cell_type": "markdown",
   "metadata": {},
   "source": [
    "Let's get the median Value of Questions by round (assuming that you have already filtered the data set by Question, using questions_with_words_best I hope!): "
   ]
  },
  {
   "cell_type": "code",
   "execution_count": 33,
   "metadata": {},
   "outputs": [],
   "source": [
    "def get_median_value(df):\n",
    "    get_stat = df.groupby(['Round']).Value_Num.median().reset_index()\n",
    "    get_stat.sort_values(by='Value_Num', ascending = False, inplace = True)\n",
    "    return get_stat"
   ]
  },
  {
   "cell_type": "markdown",
   "metadata": {},
   "source": [
    "Now run:"
   ]
  },
  {
   "cell_type": "code",
   "execution_count": 34,
   "metadata": {},
   "outputs": [
    {
     "name": "stdout",
     "output_type": "stream",
     "text": [
      "Questions with \"King\" and \"England\":\n",
      "              Round  Value_Num\n",
      "0  Double Jeopardy!       1000\n",
      "2         Jeopardy!        500\n",
      "1   Final Jeopardy!          0\n",
      "Questions containing \"Michelle\":\n",
      "              Round  Value_Num\n",
      "0  Double Jeopardy!        800\n",
      "1         Jeopardy!        400\n"
     ]
    }
   ],
   "source": [
    "# First, look at Questions containing the words \"King\" and \"England\"\"\n",
    "king_median= get_median_value(questions_we_care_about)\n",
    "print('Questions with \"King\" and \"England\":')\n",
    "print(king_median)\n",
    "# Now look at Questions containing my first name:\n",
    "name_median = get_median_value(my_name_questions)\n",
    "print('Questions containing \"Michelle\":')\n",
    "print(name_median)\n",
    "\n",
    "# I originally input DataFrames filtered by Category and fed them to get_median_values, but I decided that this was a \n",
    "# dumb idea as I was just going to get the \"middle of the road\" question values every time."
   ]
  },
  {
   "cell_type": "markdown",
   "metadata": {},
   "source": [
    "If question Value is a broad indicator of difficulty, questions containing \"King\" and \"England\" tend to be harder than questions containing \"Michelle.\""
   ]
  },
  {
   "cell_type": "code",
   "execution_count": null,
   "metadata": {},
   "outputs": [],
   "source": []
  }
 ],
 "metadata": {
  "kernelspec": {
   "display_name": "Python 3",
   "language": "python",
   "name": "python3"
  },
  "language_info": {
   "codemirror_mode": {
    "name": "ipython",
    "version": 3
   },
   "file_extension": ".py",
   "mimetype": "text/x-python",
   "name": "python",
   "nbconvert_exporter": "python",
   "pygments_lexer": "ipython3",
   "version": "3.8.3"
  }
 },
 "nbformat": 4,
 "nbformat_minor": 4
}
